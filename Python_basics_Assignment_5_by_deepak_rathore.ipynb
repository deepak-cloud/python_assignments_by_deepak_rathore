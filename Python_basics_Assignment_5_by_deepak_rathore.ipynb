{
 "cells": [
  {
   "cell_type": "markdown",
   "metadata": {},
   "source": [
    "# Q1. What does an empty dictionary's code look like ? \n",
    "\n",
    "## Solution:\n",
    "In Python, a dictionary is an unordered collection of data values that can be used to store data values like a map. Unlike other Data Types, which can only carry a single value as an element, Dictionary may hold key:value pairs. The dictionary includes a key-value pair to make it more efficient.\n",
    "\n",
    "An empty dictionary's code look like as {} empty curly brackets.\n",
    "\n",
    "we can understand this through below code:"
   ]
  },
  {
   "cell_type": "code",
   "execution_count": 1,
   "metadata": {},
   "outputs": [],
   "source": [
    "empty_Dictionary = {}"
   ]
  },
  {
   "cell_type": "code",
   "execution_count": 3,
   "metadata": {},
   "outputs": [
    {
     "name": "stdout",
     "output_type": "stream",
     "text": [
      "{}\n",
      "Length:  0\n",
      "<class 'dict'>\n"
     ]
    }
   ],
   "source": [
    "print(empty_Dictionary)\n",
    "print(\"Length: \", len(empty_Dictionary))\n",
    "print(type(empty_Dictionary))"
   ]
  },
  {
   "cell_type": "markdown",
   "metadata": {},
   "source": [
    "# Q2. What is the value of a dictionary value with the key 'foo' and the value 42 ?\n",
    "\n",
    "## Solution:\n"
   ]
  },
  {
   "cell_type": "code",
   "execution_count": 7,
   "metadata": {},
   "outputs": [],
   "source": [
    "dict = {'foo':42} # In dictionary, colon (:) left hand side denoted as key and colon(:) right han side denoted as value. "
   ]
  },
  {
   "cell_type": "code",
   "execution_count": 8,
   "metadata": {},
   "outputs": [
    {
     "name": "stdout",
     "output_type": "stream",
     "text": [
      "{'foo': 42}\n"
     ]
    }
   ],
   "source": [
    "print(dict)"
   ]
  },
  {
   "cell_type": "markdown",
   "metadata": {},
   "source": [
    "# Q3. What is the most significant distinction between a dictionary and a list ?\n",
    "\n",
    "## Solution:\n",
    "Dictionary sets are unordered sets, whereas lists are ordered sequences of objects. The fundamental difference is that in dictionaries, objects are accessible through keys rather than their position.\n"
   ]
  },
  {
   "cell_type": "markdown",
   "metadata": {},
   "source": [
    "# Q4. What happens if you try to access spam['foo'] if spam is {'bar': 100} ?\n",
    "\n",
    "## Solution:\n",
    "A compiler will shows a key error, we can seen this through a below example. "
   ]
  },
  {
   "cell_type": "code",
   "execution_count": 17,
   "metadata": {},
   "outputs": [
    {
     "ename": "KeyError",
     "evalue": "'foo'",
     "output_type": "error",
     "traceback": [
      "\u001b[1;31m---------------------------------------------------------------------------\u001b[0m",
      "\u001b[1;31mKeyError\u001b[0m                                  Traceback (most recent call last)",
      "\u001b[1;32m<ipython-input-17-76189a2aa494>\u001b[0m in \u001b[0;36m<module>\u001b[1;34m\u001b[0m\n\u001b[0;32m      1\u001b[0m \u001b[0mspam\u001b[0m \u001b[1;33m=\u001b[0m \u001b[1;33m{\u001b[0m\u001b[1;34m'bar'\u001b[0m\u001b[1;33m:\u001b[0m\u001b[1;36m100\u001b[0m\u001b[1;33m}\u001b[0m\u001b[1;33m\u001b[0m\u001b[1;33m\u001b[0m\u001b[0m\n\u001b[1;32m----> 2\u001b[1;33m \u001b[0mprint\u001b[0m\u001b[1;33m(\u001b[0m\u001b[0mspam\u001b[0m\u001b[1;33m[\u001b[0m\u001b[1;34m'foo'\u001b[0m\u001b[1;33m]\u001b[0m\u001b[1;33m)\u001b[0m\u001b[1;33m\u001b[0m\u001b[1;33m\u001b[0m\u001b[0m\n\u001b[0m",
      "\u001b[1;31mKeyError\u001b[0m: 'foo'"
     ]
    }
   ],
   "source": [
    "spam = {'bar':100}\n",
    "print(spam['foo'])"
   ]
  },
  {
   "cell_type": "markdown",
   "metadata": {},
   "source": [
    "#  Q5. If a dictionary is stored in spam, what is the difference between the expressions 'cat' in spam and 'cat' in spam.keys() ?\n",
    "\n",
    "## Solution:\n",
    "No difference, 'cat' in spam is 'cat' in spam.keys () shorthand version, check 'cat' key is present in the dictionary.\n"
   ]
  },
  {
   "cell_type": "markdown",
   "metadata": {},
   "source": [
    "# Q6. If a dictionary is stored in spam, what is the difference between the expressions 'cat' in spam and 'cat' in spam.values() ?\n",
    "\n",
    "## Solution:\n",
    "While 'cat' in spam checks for a 'cat' key in the dictionary, 'cat' in spam checks for a 'cat' key in the dictionary. values() checks whether one of the keys in spam has the value 'cat'."
   ]
  },
  {
   "cell_type": "markdown",
   "metadata": {},
   "source": [
    "# Q7. What is a shortcut for the following code ?\n",
    "- if 'color' not in spam:\n",
    "-     spam['color'] = 'black'\n",
    "\n",
    "## Solution:\n",
    "spam.setdefault('color', 'black')"
   ]
  },
  {
   "cell_type": "markdown",
   "metadata": {},
   "source": [
    "# Q8. How do you \"pretty print\" dictionary values using which module and function ?\n",
    "\n",
    "## Solution:\n",
    "Through pprint.pprint() function. We can understand through below code:"
   ]
  },
  {
   "cell_type": "code",
   "execution_count": 11,
   "metadata": {},
   "outputs": [
    {
     "name": "stdout",
     "output_type": "stream",
     "text": [
      "[{'Age': '30', 'Country': 'India', 'Name': 'Deeps'},\n",
      " {'Age': '33', 'Country': 'Russia', 'Name': 'Anand'},\n",
      " {'Age': '32', 'Country': 'USA', 'Name': 'Pankaj'},\n",
      " {'Age': '29', 'Country': 'Japan', 'Name': 'Abhay'}]\n"
     ]
    }
   ],
   "source": [
    "import pprint\n",
    "\n",
    "dct_arr = [\n",
    "  {'Name': 'Deeps', 'Age': '30', 'Country': 'India'},\n",
    "  {'Name': 'Anand', 'Age': '33', 'Country': 'Russia'},\n",
    "  {'Name': 'Pankaj', 'Age': '32', 'Country': 'USA'},\n",
    "  {'Name': 'Abhay', 'Age': '29', 'Country': 'Japan'}\n",
    "]\n",
    "\n",
    "pprint.pprint(dct_arr)"
   ]
  },
  {
   "cell_type": "markdown",
   "metadata": {},
   "source": [
    "# Assignment Completed!!"
   ]
  }
 ],
 "metadata": {
  "kernelspec": {
   "display_name": "Python 3",
   "language": "python",
   "name": "python3"
  },
  "language_info": {
   "codemirror_mode": {
    "name": "ipython",
    "version": 3
   },
   "file_extension": ".py",
   "mimetype": "text/x-python",
   "name": "python",
   "nbconvert_exporter": "python",
   "pygments_lexer": "ipython3",
   "version": "3.7.4"
  }
 },
 "nbformat": 4,
 "nbformat_minor": 2
}
