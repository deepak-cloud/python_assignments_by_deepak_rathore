{
 "cells": [
  {
   "cell_type": "markdown",
   "metadata": {},
   "source": [
    "# Q1. What exactly is [] ?\n",
    "\n",
    "## Soution:\n",
    "The rectangular brackets in python generally refer list series. List are used to store multiple items in a single variable. Its items are ordered, changeable and allow duplicates values. \n",
    "Rectangular empty brackets []  denotes empty list value that contains nothing. It is also called empty string value. \n",
    "\n",
    "We can understand through this example:"
   ]
  },
  {
   "cell_type": "code",
   "execution_count": 2,
   "metadata": {},
   "outputs": [
    {
     "name": "stdout",
     "output_type": "stream",
     "text": [
      "[]\n"
     ]
    }
   ],
   "source": [
    "list = []\n",
    "print(list)"
   ]
  },
  {
   "cell_type": "markdown",
   "metadata": {},
   "source": [
    "# Q2. In a list of values stored in a variable called spam, how would you assign the value 'hello' as the third value? (Assume [2, 4, 6, 8, 10] are in spam.)\n",
    "\n",
    "## Solution:"
   ]
  },
  {
   "cell_type": "code",
   "execution_count": 3,
   "metadata": {},
   "outputs": [
    {
     "name": "stdout",
     "output_type": "stream",
     "text": [
      "[2, 4, 6, 8, 10]\n"
     ]
    }
   ],
   "source": [
    "spam = [2,4,6,8,10]\n",
    "print(spam)"
   ]
  },
  {
   "cell_type": "code",
   "execution_count": 4,
   "metadata": {},
   "outputs": [],
   "source": [
    "spam[2] = 'hello' # inserting string value 'hello' in list at 3 location, as ginving [2] because starts from [0] item. "
   ]
  },
  {
   "cell_type": "code",
   "execution_count": 5,
   "metadata": {},
   "outputs": [
    {
     "name": "stdout",
     "output_type": "stream",
     "text": [
      "[2, 4, 'hello', 8, 10]\n"
     ]
    }
   ],
   "source": [
    "print(spam)"
   ]
  },
  {
   "cell_type": "markdown",
   "metadata": {},
   "source": [
    "# Let's pretend the spam includes the list ['a', 'b', 'c', 'd'] for the next three queries."
   ]
  },
  {
   "cell_type": "code",
   "execution_count": 6,
   "metadata": {},
   "outputs": [],
   "source": [
    "spam = ['a','b','c','d']"
   ]
  },
  {
   "cell_type": "markdown",
   "metadata": {},
   "source": [
    "# Q3. What is the value of spam[int(int('3' * 2) / 11)] ?"
   ]
  },
  {
   "cell_type": "code",
   "execution_count": 7,
   "metadata": {},
   "outputs": [
    {
     "data": {
      "text/plain": [
       "'d'"
      ]
     },
     "execution_count": 7,
     "metadata": {},
     "output_type": "execute_result"
    }
   ],
   "source": [
    "spam[int(int('3' * 2) / 11)] # '3'*2 is the string equals to '33', which is passed to int() before being divided by 11. This eventually evaluates to 3. Expression can be used wherever values are used."
   ]
  },
  {
   "cell_type": "markdown",
   "metadata": {},
   "source": [
    "# Q4. What is the value of spam[-1] ?\n",
    "\n",
    "## Solution: "
   ]
  },
  {
   "cell_type": "code",
   "execution_count": 8,
   "metadata": {},
   "outputs": [
    {
     "data": {
      "text/plain": [
       "'d'"
      ]
     },
     "execution_count": 8,
     "metadata": {},
     "output_type": "execute_result"
    }
   ],
   "source": [
    "spam[-1] # it gives value 'd' as negative index counts the item value from end."
   ]
  },
  {
   "cell_type": "markdown",
   "metadata": {},
   "source": [
    "# Q5. What is the value of spam[:2] ?\n",
    "\n",
    "## Solution:"
   ]
  },
  {
   "cell_type": "code",
   "execution_count": 9,
   "metadata": {},
   "outputs": [
    {
     "data": {
      "text/plain": [
       "['a', 'b']"
      ]
     },
     "execution_count": 9,
     "metadata": {},
     "output_type": "execute_result"
    }
   ],
   "source": [
    "spam[:2]  # value after : in list brackets shows upto which the number of values will be acsess"
   ]
  },
  {
   "cell_type": "markdown",
   "metadata": {},
   "source": [
    "# Let's pretend bacon has the list [3.14, 'cat', 11, 'cat', True] for the next three questions."
   ]
  },
  {
   "cell_type": "code",
   "execution_count": 10,
   "metadata": {},
   "outputs": [],
   "source": [
    "bacon = [3.14,'cat', 11,'cat',True]"
   ]
  },
  {
   "cell_type": "markdown",
   "metadata": {},
   "source": [
    "# Q6. What is the value of bacon.index('cat') ?\n",
    "\n",
    "## Solution:"
   ]
  },
  {
   "cell_type": "code",
   "execution_count": 12,
   "metadata": {},
   "outputs": [
    {
     "data": {
      "text/plain": [
       "1"
      ]
     },
     "execution_count": 12,
     "metadata": {},
     "output_type": "execute_result"
    }
   ],
   "source": [
    "bacon.index('cat')  # as a 'cat' value repeats in the list at diffrent location, but when we prints its location then it always shows the adress of first occured value   "
   ]
  },
  {
   "cell_type": "markdown",
   "metadata": {},
   "source": [
    "# Q7. How does bacon.append(99) change the look of the list value in bacon ?\n",
    "\n",
    "## Solution:"
   ]
  },
  {
   "cell_type": "code",
   "execution_count": 13,
   "metadata": {},
   "outputs": [],
   "source": [
    "bacon.append(99) # as list follow LIFO order. So, in list new items can be added always at end. "
   ]
  },
  {
   "cell_type": "code",
   "execution_count": 14,
   "metadata": {},
   "outputs": [
    {
     "name": "stdout",
     "output_type": "stream",
     "text": [
      "[3.14, 'cat', 11, 'cat', True, 99]\n"
     ]
    }
   ],
   "source": [
    "print(bacon) # item 99 added at the end."
   ]
  },
  {
   "cell_type": "markdown",
   "metadata": {},
   "source": [
    "# Q8. How does bacon.remove('cat') change the look of the list in bacon ?\n",
    "\n",
    "## Solution:"
   ]
  },
  {
   "cell_type": "code",
   "execution_count": 15,
   "metadata": {},
   "outputs": [],
   "source": [
    "bacon.remove('cat') # as list follow LIFO order. So, in list items can be removed always begnning side. As in removal of duplicate value remved that item which occured first.\n"
   ]
  },
  {
   "cell_type": "code",
   "execution_count": 16,
   "metadata": {},
   "outputs": [
    {
     "name": "stdout",
     "output_type": "stream",
     "text": [
      "[3.14, 11, 'cat', True, 99]\n"
     ]
    }
   ],
   "source": [
    "print(bacon) # occurance of first one item 'cat' in list has been removed."
   ]
  },
  {
   "cell_type": "markdown",
   "metadata": {},
   "source": [
    "# Q9. What are the list concatenation and list replication operators ?\n",
    "\n",
    "## Solution:\n",
    "List concatenation operator is a addition sign '+' and list replication operator is a multiply sign '*' for both list as well as string operations respectively.\n",
    "\n",
    "we can understand this through following example:"
   ]
  },
  {
   "cell_type": "code",
   "execution_count": 23,
   "metadata": {},
   "outputs": [],
   "source": [
    "# Concatenation of two lists\n",
    "student_info = ['deepak', 'MCA', 'Second_year']"
   ]
  },
  {
   "cell_type": "code",
   "execution_count": 24,
   "metadata": {},
   "outputs": [],
   "source": [
    "student_marks = ['B Grade', 'Second Division']"
   ]
  },
  {
   "cell_type": "code",
   "execution_count": 26,
   "metadata": {},
   "outputs": [
    {
     "name": "stdout",
     "output_type": "stream",
     "text": [
      "['deepak', 'MCA', 'Second_year', 'B Grade', 'Second Division']\n"
     ]
    }
   ],
   "source": [
    "print(student_info + student_marks)"
   ]
  },
  {
   "cell_type": "code",
   "execution_count": 30,
   "metadata": {},
   "outputs": [],
   "source": [
    "# Replication of a list\n",
    "name = ['Bitto', 'Anand', 'vicky']"
   ]
  },
  {
   "cell_type": "code",
   "execution_count": 31,
   "metadata": {},
   "outputs": [],
   "source": [
    "name = ['Bitto', 'Anand', 'vicky'] * 2"
   ]
  },
  {
   "cell_type": "code",
   "execution_count": 32,
   "metadata": {},
   "outputs": [
    {
     "name": "stdout",
     "output_type": "stream",
     "text": [
      "['Bitto', 'Anand', 'vicky', 'Bitto', 'Anand', 'vicky']\n"
     ]
    }
   ],
   "source": [
    "print(name)"
   ]
  },
  {
   "cell_type": "markdown",
   "metadata": {},
   "source": [
    "# Q10. What is difference between the list methods append() and insert() ?\n",
    "\n",
    "## Solution: \n",
    "List method append() can always add a new value at the end location of list. \n",
    "Whereas a list method insert() can add a new value at any location in the list. \n",
    "\n",
    "We can understand this through example:"
   ]
  },
  {
   "cell_type": "code",
   "execution_count": 34,
   "metadata": {},
   "outputs": [
    {
     "name": "stdout",
     "output_type": "stream",
     "text": [
      "['A', 'G', 'J', 'K']\n"
     ]
    }
   ],
   "source": [
    "list_1 = ['A', 'G', 'J', 'K']\n",
    "print(list_1)"
   ]
  },
  {
   "cell_type": "code",
   "execution_count": 36,
   "metadata": {},
   "outputs": [
    {
     "name": "stdout",
     "output_type": "stream",
     "text": [
      "['A', 'G', 'J', 'K', 'C']\n"
     ]
    }
   ],
   "source": [
    "list_1.append('C')\n",
    "print(list_1)"
   ]
  },
  {
   "cell_type": "code",
   "execution_count": 37,
   "metadata": {},
   "outputs": [
    {
     "name": "stdout",
     "output_type": "stream",
     "text": [
      "['A', 'B', 'G', 'J', 'K', 'C']\n"
     ]
    }
   ],
   "source": [
    "list_1.insert(1,'B')\n",
    "print(list_1)"
   ]
  },
  {
   "cell_type": "code",
   "execution_count": 45,
   "metadata": {},
   "outputs": [
    {
     "name": "stdout",
     "output_type": "stream",
     "text": [
      "['A', 'B', 'D', 'G', 'J', 'K', 'C']\n"
     ]
    }
   ],
   "source": [
    "list_1.insert(2,'D')\n",
    "print(list_1)"
   ]
  },
  {
   "cell_type": "markdown",
   "metadata": {},
   "source": [
    "# Q11. What are the two methods for removing items from a list ?\n",
    "\n",
    "## Solution:\n",
    "Removing items from list by many ways:\n",
    "\n",
    "- Remove all items using function clear().\n",
    "- Remove an item by index and get its value using function pop().\n",
    "- Remove an item by value using function remove().\n",
    "- Remove item by index or slice using statement del.\n",
    "- Remove items that meet the condition : List comprehension.\n",
    "\n",
    "\n",
    "But here we dicussed only two methods:\n",
    "remove() and del statement\n",
    "\n",
    "remove() method used directly item value to remove it from the list.\n",
    "del statement used to delete an item by its index.\n",
    "\n",
    "we can understand both cases by following code:\n"
   ]
  },
  {
   "cell_type": "code",
   "execution_count": 1,
   "metadata": {},
   "outputs": [
    {
     "name": "stdout",
     "output_type": "stream",
     "text": [
      "[1, 2, 3, 4, 5, 6, 7, 8, 9]\n"
     ]
    }
   ],
   "source": [
    "list_1 = [1,2,3,4,5,6,7,8,9]\n",
    "print(list_1)"
   ]
  },
  {
   "cell_type": "code",
   "execution_count": 2,
   "metadata": {},
   "outputs": [
    {
     "name": "stdout",
     "output_type": "stream",
     "text": [
      "[1, 2, 3, 5, 6, 7, 8, 9]\n"
     ]
    }
   ],
   "source": [
    "list_1.remove(4) # Eliminate item in list by remove method.\n",
    "print(list_1)"
   ]
  },
  {
   "cell_type": "code",
   "execution_count": 3,
   "metadata": {},
   "outputs": [
    {
     "name": "stdout",
     "output_type": "stream",
     "text": [
      "[1, 2, 3, 7, 8, 9]\n"
     ]
    }
   ],
   "source": [
    "del list_1[3:5] # Eliminate item in list by del statement\n",
    "print(list_1)"
   ]
  },
  {
   "cell_type": "markdown",
   "metadata": {},
   "source": [
    "# Q12. Describe how list values and string values are identical ?\n",
    "\n",
    "## Solution:\n",
    "A list is a collection of Python data values organised in a sequential order, with each value identified by an index. The elements of a list are the values that make it up. Lists are similar to strings in that they are ordered collections of characters, but the elements of a list can be of any type.\n",
    "\n",
    "Even both are identical as lists and strings can be used with the in and not in operators, have indexes and slices, be used in for loops, be concatenated or replicated, and have indexes and slices.\n",
    " "
   ]
  },
  {
   "cell_type": "markdown",
   "metadata": {},
   "source": [
    "# Q13. What's the difference between tuples and lists ?\n",
    "\n",
    "## Solution:\n",
    "Lists can have values added, removed or updated since they are changeable. Tuples are unchangeable; they can't be modified in any way. Tuples are also written with parentheses (), whereas lists are written with square brackets []."
   ]
  },
  {
   "cell_type": "markdown",
   "metadata": {},
   "source": [
    "# Q14. How do you type a tuple value that only contains the integer 42 ?\n",
    "\n",
    "## Solution:\n"
   ]
  },
  {
   "cell_type": "code",
   "execution_count": 6,
   "metadata": {},
   "outputs": [],
   "source": [
    "tuple_1 = (42,)"
   ]
  },
  {
   "cell_type": "code",
   "execution_count": 7,
   "metadata": {},
   "outputs": [
    {
     "name": "stdout",
     "output_type": "stream",
     "text": [
      "(42,)\n"
     ]
    }
   ],
   "source": [
    "print(tuple_1)"
   ]
  },
  {
   "cell_type": "markdown",
   "metadata": {},
   "source": [
    "# Q15. How do you get a list value's tuple form? How do you get a tuple value's list form ? \n",
    "\n",
    "## Solution:\n",
    "We can understand this by following two codes:"
   ]
  },
  {
   "cell_type": "code",
   "execution_count": 11,
   "metadata": {},
   "outputs": [],
   "source": [
    "# List Values in tuple form:\n",
    "list_data = [(4,5,6,7), ('d','a','t','a'), (\"python\", \"science\", \"data\")]"
   ]
  },
  {
   "cell_type": "code",
   "execution_count": 15,
   "metadata": {},
   "outputs": [
    {
     "name": "stdout",
     "output_type": "stream",
     "text": [
      "List values in tuples form:  [(4, 5, 6, 7), ('d', 'a', 't', 'a'), ('python', 'science', 'data')]\n"
     ]
    }
   ],
   "source": [
    "print(\"List values in tuples form: \", list_data)"
   ]
  },
  {
   "cell_type": "code",
   "execution_count": 16,
   "metadata": {},
   "outputs": [],
   "source": [
    "# Tuple values in list form:\n",
    "tuple_data = ([4,5,6], ['t','g','y'], [\"dfr\", \"ghy\", \"jku\"])"
   ]
  },
  {
   "cell_type": "code",
   "execution_count": 17,
   "metadata": {},
   "outputs": [
    {
     "name": "stdout",
     "output_type": "stream",
     "text": [
      "Tuple values in list form:  ([4, 5, 6], ['t', 'g', 'y'], ['dfr', 'ghy', 'jku'])\n"
     ]
    }
   ],
   "source": [
    "print(\"Tuple values in list form: \", tuple_data)"
   ]
  },
  {
   "cell_type": "markdown",
   "metadata": {},
   "source": [
    "# Q16. Variables that \"contain\" list values are not necessarily lists themselves. Instead, what do they contain ?\n",
    "\n",
    "## Solution:\n",
    "Rather than containing list values, variables will contain references to them. Variables for strings and integer values, on the other hand, just hold the string or integer value. When variables must store values of mutable data types, such as lists or dictionaries, Python employs references. Python variables will save the value itself for values of immutable data types like texts, integers, and tuples.\n"
   ]
  },
  {
   "cell_type": "markdown",
   "metadata": {},
   "source": [
    "# Q17. How do you distinguish between copy.copy() and copy.deepcopy() ?\n",
    "\n",
    "## Solution:\n",
    "A shallow copy of a list is made with the copy.copy() method, while a deep copy is made with the copy.deepcopy() method. Only copy.deepcopy() will duplicate any lists included within the list.\n",
    "\n",
    "Deep copy operations frequently have two issues that shallow copy procedures do not:\n",
    "\n",
    "A recursive loop can be caused by recursive objects (complex objects that contain a direct or indirect reference to self).\n",
    "\n",
    "Deep copy may copy too much data, such as data intended to be shared across copies, because it copies everything."
   ]
  },
  {
   "cell_type": "code",
   "execution_count": null,
   "metadata": {},
   "outputs": [],
   "source": []
  },
  {
   "cell_type": "markdown",
   "metadata": {},
   "source": [
    "# Assignment Completed!!"
   ]
  }
 ],
 "metadata": {
  "kernelspec": {
   "display_name": "Python 3",
   "language": "python",
   "name": "python3"
  },
  "language_info": {
   "codemirror_mode": {
    "name": "ipython",
    "version": 3
   },
   "file_extension": ".py",
   "mimetype": "text/x-python",
   "name": "python",
   "nbconvert_exporter": "python",
   "pygments_lexer": "ipython3",
   "version": "3.7.4"
  }
 },
 "nbformat": 4,
 "nbformat_minor": 2
}
