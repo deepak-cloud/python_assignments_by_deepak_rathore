{
 "cells": [
  {
   "cell_type": "markdown",
   "metadata": {},
   "source": [
    "# Q1. What are the two values of the Boolean data type? How do you write them?\n",
    "\n",
    "## Solution:\n",
    "Conditional statements, which change control flow depending on whether a programmer-specified Boolean condition evaluates to true or false, are the most common use of the Boolean data type. Two values of boolean data type are True and False in which both values first letter must be in uppercase such as 'T' and 'F'.\n",
    " \n",
    "we can use these values in the below two codes:\n",
    "- 1)"
   ]
  },
  {
   "cell_type": "code",
   "execution_count": 9,
   "metadata": {},
   "outputs": [
    {
     "name": "stdout",
     "output_type": "stream",
     "text": [
      "True\n",
      "True\n"
     ]
    }
   ],
   "source": [
    "f = \"Deepak\"\n",
    "g = 97\n",
    "\n",
    "print(bool(f))\n",
    "print(bool(g))"
   ]
  },
  {
   "cell_type": "markdown",
   "metadata": {},
   "source": [
    "- 2)"
   ]
  },
  {
   "cell_type": "code",
   "execution_count": 11,
   "metadata": {},
   "outputs": [
    {
     "name": "stdout",
     "output_type": "stream",
     "text": [
      "To check whether the entred two numbers are greater or equal or lesser with each other\n",
      "\n",
      "Enter value of a in integer only- 67\n",
      "Enter value of b in integer only- 67\n",
      "whether a is greater than b:  False\n",
      "whether a is equal to b:  True\n",
      "whether a is lesser than b:  False\n"
     ]
    }
   ],
   "source": [
    "print(\"To check whether the entred two numbers are greater or equal or lesser with each other\\n\")\n",
    "a=int(input(\"Enter value of a in integer only- \"))\n",
    "b=int(input(\"Enter value of b in integer only- \"))\n",
    "print(\"whether a is greater than b: \", a > b)\n",
    "print(\"whether a is equal to b: \", a == b)\n",
    "print(\"whether a is lesser than b: \", a < b)\n"
   ]
  },
  {
   "cell_type": "markdown",
   "metadata": {},
   "source": [
    "# Q2. What are the three different types of Boolean operators?\n",
    "\n",
    "## Solution:\n",
    "The basic three types of boolean operators which generally gives True, False output in return are- 'AND', 'OR', 'NOT' operators and also known as logical operators.\n",
    "\n",
    "AND - Logical AND: True if both the operands are true such as A 'AND' B.\n",
    "\n",
    "OR - Logical OR: True if either of the operands are true such as A OR B.\n",
    "\n",
    "NOT -  Logical NOT: True if operands is false such as NOT  A.\n",
    "\n"
   ]
  },
  {
   "cell_type": "markdown",
   "metadata": {},
   "source": [
    "# Q3. Make a list of each Boolean operator's truth tables (i.e. every possible combination of Boolean values for the operator and what it evaluate )?\n",
    "\n",
    "## Solution: \n",
    "Here '1' means True and '0' means False\n",
    "\n",
    "AND - Logical AND: True if both the operands are true such as A 'AND' B.\n",
    "Its truth table :\n",
    "- A B Output\n",
    "- 0 0  0\n",
    "- 0 1  0\n",
    "- 1 0  0\n",
    "- 1 1  1\n",
    "\n",
    "OR - Logical OR: True if either of the operands are true such as A OR B.\n",
    "Its truth table :\n",
    "- A B Output\n",
    "- 0 0  0\n",
    "- 0 1  1\n",
    "- 1 0  1\n",
    "- 1 1  1\n",
    "\n",
    "NOT -  Logical NOT: True if operands is false such as NOT A.\n",
    "Its truth table :\n",
    "- A  Not A \n",
    "- 0  1  \n",
    "- 1  0\n",
    "\n"
   ]
  },
  {
   "cell_type": "markdown",
   "metadata": {},
   "source": [
    "# Q4. What are the values of the following expressions?\n",
    "\n",
    "- (5 > 4) and (3 == 5)\n",
    "- not (5 > 4)\n",
    "- (5 > 4) or (3 == 5)\n",
    "- not ((5 > 4) or (3 == 5))\n",
    "- (True and True) and (True == False)\n",
    "- (not False) or (not True)\n",
    "\n",
    "## Solution\n"
   ]
  },
  {
   "cell_type": "code",
   "execution_count": 15,
   "metadata": {},
   "outputs": [
    {
     "data": {
      "text/plain": [
       "False"
      ]
     },
     "execution_count": 15,
     "metadata": {},
     "output_type": "execute_result"
    }
   ],
   "source": [
    "(5 > 4) and (3 == 5)  # it returns false. Because through 'AND' operator True AND False = False."
   ]
  },
  {
   "cell_type": "code",
   "execution_count": 17,
   "metadata": {},
   "outputs": [
    {
     "data": {
      "text/plain": [
       "False"
      ]
     },
     "execution_count": 17,
     "metadata": {},
     "output_type": "execute_result"
    }
   ],
   "source": [
    "not (5 > 4) # it returns false. Because through 'NOT' operator every expression revert oppositly as True NOT = False.    "
   ]
  },
  {
   "cell_type": "code",
   "execution_count": 18,
   "metadata": {},
   "outputs": [
    {
     "data": {
      "text/plain": [
       "True"
      ]
     },
     "execution_count": 18,
     "metadata": {},
     "output_type": "execute_result"
    }
   ],
   "source": [
    "(5 > 4) or (3 == 5)  # it returns true. Because through 'OR' operator True OR False = True.  "
   ]
  },
  {
   "cell_type": "code",
   "execution_count": 30,
   "metadata": {},
   "outputs": [
    {
     "data": {
      "text/plain": [
       "False"
      ]
     },
     "execution_count": 30,
     "metadata": {},
     "output_type": "execute_result"
    }
   ],
   "source": [
    "not ((5 > 4) or (3 == 5))  # it returns false. Because acc. to PEMDAS rule 5>4 = true or 3==5 = false == True.\n",
    "# But due to NOT operator expression perform inversely and gives or operatore "
   ]
  },
  {
   "cell_type": "code",
   "execution_count": 32,
   "metadata": {},
   "outputs": [
    {
     "data": {
      "text/plain": [
       "False"
      ]
     },
     "execution_count": 32,
     "metadata": {},
     "output_type": "execute_result"
    }
   ],
   "source": [
    "(True and True) and (True == False) # it returns False. Because acc. to PEMDAS through 'AND' operator\n",
    "# (True) AND (False) = False "
   ]
  },
  {
   "cell_type": "code",
   "execution_count": 33,
   "metadata": {},
   "outputs": [
    {
     "data": {
      "text/plain": [
       "True"
      ]
     },
     "execution_count": 33,
     "metadata": {},
     "output_type": "execute_result"
    }
   ],
   "source": [
    "(not False) or (not True) # it returns True. Because acc. to PEDMAS through 'OR' operator (True) OR (False) = True."
   ]
  },
  {
   "cell_type": "markdown",
   "metadata": {},
   "source": [
    "# Q5. What are the six comparison operators ?\n",
    "\n",
    "## Solution: \n",
    "In computer programming, comparison operators are used in conditional expressions to control the programme flow by determining which block of code executes. In an expression that resolves to a true or false value, comparison operators compare two values.\n",
    "There are six main comparison operators: equal to, not equal to, greater than, greater than or equal to, less than, and less than or equal to.\n",
    "\n",
    "equal to - If the value on the left is equal to the value on the right, the equal to (==) function returns true; otherwise, it returns false. For eg- x == y.\n",
    "\n",
    "not equal to - If the value on the left is not equal to the value on the right, not equal to (!=) function returns true; otherwise, it returns false. For eg- x != y.\n",
    "\n",
    "greater than - If the value on the left is greater than the value on the right, greater than (>) returns true; otherwise, it returns false. For eg- x > y.\n",
    "\n",
    "greater than or equal to - If the value on the left is greater than or equal to the value on the right, greater than or equal to (>=) returns true; otherwise, it returns false. For eg- x >= y.\n",
    "\n",
    "lesser than - If the value on the left is smaller than the value on the right, smaller than (<) returns true; otherwise, it returns false. For eg: x < y.\n",
    "\n",
    "lesser or equal to - If the value on the left is less than or equal to the value on the right, lesser than or equal to(<=) returns true; otherwise, it returns false. For eg- x <= y.\n",
    "\n",
    "we used also used all six operators in below code: "
   ]
  },
  {
   "cell_type": "code",
   "execution_count": 34,
   "metadata": {},
   "outputs": [
    {
     "name": "stdout",
     "output_type": "stream",
     "text": [
      "x > y is False\n",
      "x < y is True\n",
      "x == y is False\n",
      "x != y is True\n",
      "x >= y is False\n",
      "x <= y is True\n"
     ]
    }
   ],
   "source": [
    "x = 45\n",
    "y = 48\n",
    "\n",
    "# Output: x > y is False\n",
    "print('x > y is',x>y)\n",
    "\n",
    "# Output: x < y is True\n",
    "print('x < y is',x<y)\n",
    "\n",
    "# Output: x == y is False\n",
    "print('x == y is',x==y)\n",
    "\n",
    "# Output: x != y is True\n",
    "print('x != y is',x!=y)\n",
    "\n",
    "# Output: x >= y is False\n",
    "print('x >= y is',x>=y)\n",
    "\n",
    "# Output: x <= y is True\n",
    "print('x <= y is',x<=y)"
   ]
  },
  {
   "cell_type": "markdown",
   "metadata": {},
   "source": [
    "# Q6. How do you tell the difference between the equal to and assignment operators? Describe a condition and when you would use one?\n",
    "\n",
    "## Solution: \n",
    "The equal to (==) operator compares two operands to see if they are equal. If this is the case, it returns true. Otherwise, false is returned. For eg- 3==3, This will return true.\n",
    "\n",
    "Whereas, the assignment operators(=) are used to give a variable a value. The assignment operator's left side operand is a variable, while the assignment operator's right side operand is a value. Otherwise, the compiler will throw an error if the value on the right side is not of the same data-type as the variable on the left side. Types of assignment operator are: =, +=, -=, *=, /=.   For eg- a = 10, ch = 'y', (a += b) can be written as (a = a + b), (a -= b) can be written as (a = a - b),\n",
    "(a *= b) can be written as (a = a * b), (a /= b) can be written as (a = a / b).\n",
    "\n",
    "\n",
    "A condition when use either equal to operator or assignment operator can understand through following code:\n"
   ]
  },
  {
   "cell_type": "code",
   "execution_count": 36,
   "metadata": {},
   "outputs": [
    {
     "name": "stdout",
     "output_type": "stream",
     "text": [
      "Value of a is-  10\n"
     ]
    }
   ],
   "source": [
    "# when we need to assign any value to a variable, we used assignment operator:\n",
    "\n",
    "a=10\n",
    "print(\"Value of a is- \", a)\n"
   ]
  },
  {
   "cell_type": "code",
   "execution_count": 37,
   "metadata": {},
   "outputs": [
    {
     "name": "stdout",
     "output_type": "stream",
     "text": [
      "a and b are not equal\n"
     ]
    }
   ],
   "source": [
    "# when we need to compare or matched any expression, we need equal to operator:\n",
    "\n",
    "a=20\n",
    "b=40\n",
    "if a==b:\n",
    "    print(\"a and b are equal\")\n",
    "else:\n",
    "    print(\"a and b are not equal\")\n",
    "  "
   ]
  },
  {
   "cell_type": "markdown",
   "metadata": {},
   "source": [
    "# Q7. Identify the three blocks in this code?\n",
    "- spam = 0\n",
    "- if spam == 10:\n",
    "-    print('eggs')\n",
    "- if spam > 5:\n",
    "-    print('bacon')\n",
    "- else:\n",
    "-    print('ham')\n",
    "-    print('spam')\n",
    "-    print('spam')\n",
    "\n",
    "## Solution:\n",
    "As in this code, else part collectively used three print statements, in which  first two blocks are belongs two diffrent if-else block. And a last print statement is a single independent block, which are out sife of all if-else block. \n",
    "It is generally done, when we want to optimize the code by reducing the no. of lines. We can easily identity the three seperate blocks in the code which is as follows:"
   ]
  },
  {
   "cell_type": "code",
   "execution_count": 41,
   "metadata": {},
   "outputs": [
    {
     "name": "stdout",
     "output_type": "stream",
     "text": [
      "ham\n",
      "spam\n",
      "spam\n"
     ]
    }
   ],
   "source": [
    "\n",
    "# spam = 0\n",
    "# if spam == 10:\n",
    "#     print('eggs')\n",
    "# if spam > 5:\n",
    "#     print('bacon')\n",
    "# else:\n",
    "#     print('ham')\n",
    "#     print('spam')\n",
    "#     print('spam')\n",
    "\n",
    "\n",
    "spam = 0\n",
    "if spam == 10:\n",
    "    print('eggs')\n",
    "else:\n",
    "    print('ham')\n",
    "\n",
    "if spam > 5:\n",
    "    print('bacon')\n",
    "else:\n",
    "    print('spam')\n",
    "    \n",
    "print('spam')\n",
    "\n",
    "\n"
   ]
  },
  {
   "cell_type": "markdown",
   "metadata": {},
   "source": [
    "# Q8. Write code that prints Hello if 1 is stored in spam, prints Howdy if 2 is stored in spam, and prints Greetings! if anything else is stored in spam?\n",
    "\n",
    "## Solution:"
   ]
  },
  {
   "cell_type": "code",
   "execution_count": 1,
   "metadata": {},
   "outputs": [
    {
     "name": "stdout",
     "output_type": "stream",
     "text": [
      "Enter the spam value either 1 or 2 only- 2\n",
      "Howdy\n"
     ]
    }
   ],
   "source": [
    "# for this situaton we will use if-elif-else block:\n",
    "\n",
    "spam=int(input(\"Enter the spam value either 1 or 2 only- \"))\n",
    "if spam == 1:\n",
    "    print(\"Hello\")\n",
    "elif spam == 2:\n",
    "    print(\"Howdy\")\n",
    "else:\n",
    "    print(\"Greetings!\")\n"
   ]
  },
  {
   "cell_type": "markdown",
   "metadata": {},
   "source": [
    "# Q9. If your programme is stuck in an endless loop, what keys you’ll press ?\n",
    "\n",
    "## Solution:\n",
    "Ctlr + C\n",
    "\n",
    "\n"
   ]
  },
  {
   "cell_type": "markdown",
   "metadata": {},
   "source": [
    "# Q10. How can you tell the difference between break and continue ?\n",
    "\n",
    "## Solution:\n",
    "In Python, break statements are used to exit or \"break\" a for or while conditional loop. When the loop is finished, the code continues on to the next line, which is right after the loop that was broken. \n",
    "\n",
    "For specific loop iterations, the continue statement is used to bypass code within the loop. The loop resumes where it left off after the code is skipped.\n",
    "\n",
    "Both terms break and continue have been understand by following two codes:"
   ]
  },
  {
   "cell_type": "code",
   "execution_count": 3,
   "metadata": {},
   "outputs": [
    {
     "name": "stdout",
     "output_type": "stream",
     "text": [
      "1\n",
      "2\n"
     ]
    }
   ],
   "source": [
    "# break\n",
    "\n",
    "n = (1, 2, 3)\n",
    "n_sum = 0\n",
    "count = 0\n",
    "for x in n:\n",
    "        n_sum = n_sum + x\n",
    "        count = count + 1\n",
    "        print(count)\n",
    "        if count == 2:\n",
    "                break"
   ]
  },
  {
   "cell_type": "code",
   "execution_count": 5,
   "metadata": {},
   "outputs": [
    {
     "name": "stdout",
     "output_type": "stream",
     "text": [
      "0\n",
      "1\n",
      "3\n"
     ]
    }
   ],
   "source": [
    "# continue\n",
    "\n",
    "for x in range(4):\n",
    "   if (x==2):\n",
    "      continue\n",
    "   print(x)"
   ]
  },
  {
   "cell_type": "markdown",
   "metadata": {},
   "source": [
    "# Q11. In a for loop, what is the difference between range(10), range(0, 10), and range(0, 10, 1) ?\n",
    "\n",
    "## Solution:\n",
    "Here are the diffrences among range(10), range(0,10), range(0,10,1):\n",
    "\n",
    "range(10) - It denotes range(stop) and takes only one argument as stop. When user call range() with one argument, user will get a series of numbers that starts at 0 and includes every whole number up to, but not including, the number that user have provided as the stop.\n",
    "\n",
    "range(0,10) - It denotes range(start,stop) and takes two arguments as start,stop. When you use range() with two arguments, you can choose not only where the series of numbers ends, but also where it begins, so you don't have to start at zero all of the time. The range() function can be used to generate a series of numbers from X to Y. (X, Y).\n",
    "\n",
    "range(0,10,1) - It denotes range(start,stop,step) and takes three arguments as start,stop,step. When using range() with three arguments, the user can specify not only where the series of numbers will begin and end, but also how large the difference between each number will be. If the user does not specify a step, range() will operate as if the step is 1. \n",
    "\n",
    "All these three range can be understand by following code:"
   ]
  },
  {
   "cell_type": "code",
   "execution_count": 11,
   "metadata": {},
   "outputs": [
    {
     "name": "stdout",
     "output_type": "stream",
     "text": [
      "0 1 2 3 4 5 6 7 8 9 \n"
     ]
    }
   ],
   "source": [
    "# code for range(stop)\n",
    "\n",
    "for i in range(10):\n",
    "    print(i, end =\" \")\n",
    "print()\n"
   ]
  },
  {
   "cell_type": "code",
   "execution_count": 12,
   "metadata": {},
   "outputs": [
    {
     "name": "stdout",
     "output_type": "stream",
     "text": [
      "1 2 3 4 5 6 7 8 9 10 11 12 13 14 15 16 17 18 19 \n"
     ]
    }
   ],
   "source": [
    "# code for range(start,stop)\n",
    "\n",
    "for i in range(1, 20):\n",
    "    print(i, end =\" \")\n",
    "print()\n"
   ]
  },
  {
   "cell_type": "code",
   "execution_count": 13,
   "metadata": {},
   "outputs": [
    {
     "name": "stdout",
     "output_type": "stream",
     "text": [
      "0 3 6 9 12 15 18 21 24 27 \n"
     ]
    }
   ],
   "source": [
    "# code for range(start,stop,step)\n",
    "\n",
    "for i in range(0, 30, 3):\n",
    "    print(i, end = \" \")\n",
    "print()"
   ]
  },
  {
   "cell_type": "markdown",
   "metadata": {},
   "source": [
    "# Q12. Write a short program that prints the numbers 1 to 10 using a for loop. Then write an equivalent program that prints the numbers 1 to 10 using a while loop ?\n",
    "\n",
    "## Solution:\n"
   ]
  },
  {
   "cell_type": "code",
   "execution_count": 14,
   "metadata": {},
   "outputs": [
    {
     "name": "stdout",
     "output_type": "stream",
     "text": [
      "1\n",
      "2\n",
      "3\n",
      "4\n",
      "5\n",
      "6\n",
      "7\n",
      "8\n",
      "9\n",
      "10\n"
     ]
    }
   ],
   "source": [
    "# prints numbers from 1 to 10 using for loop:\n",
    "\n",
    "for i in range(1, 11):\n",
    "    print(i)"
   ]
  },
  {
   "cell_type": "code",
   "execution_count": 15,
   "metadata": {},
   "outputs": [
    {
     "name": "stdout",
     "output_type": "stream",
     "text": [
      "1\n",
      "2\n",
      "3\n",
      "4\n",
      "5\n",
      "6\n",
      "7\n",
      "8\n",
      "9\n",
      "10\n"
     ]
    }
   ],
   "source": [
    "# prints numbers from 1 to 10 using while loop:\n",
    "\n",
    "i = 1\n",
    "while(i<=10):\n",
    "    print(i)\n",
    "    i += 1\n"
   ]
  },
  {
   "cell_type": "markdown",
   "metadata": {},
   "source": [
    "# Q13. If you had a function named bacon() inside a module named spam, how would you call it after importing spam ?\n",
    "\n",
    "## Solution:\n",
    "We can called it through spam.bacon()"
   ]
  },
  {
   "cell_type": "code",
   "execution_count": null,
   "metadata": {},
   "outputs": [],
   "source": []
  },
  {
   "cell_type": "markdown",
   "metadata": {},
   "source": [
    "# Assignment Completed !!"
   ]
  }
 ],
 "metadata": {
  "kernelspec": {
   "display_name": "Python 3",
   "language": "python",
   "name": "python3"
  },
  "language_info": {
   "codemirror_mode": {
    "name": "ipython",
    "version": 3
   },
   "file_extension": ".py",
   "mimetype": "text/x-python",
   "name": "python",
   "nbconvert_exporter": "python",
   "pygments_lexer": "ipython3",
   "version": "3.7.4"
  }
 },
 "nbformat": 4,
 "nbformat_minor": 2
}
