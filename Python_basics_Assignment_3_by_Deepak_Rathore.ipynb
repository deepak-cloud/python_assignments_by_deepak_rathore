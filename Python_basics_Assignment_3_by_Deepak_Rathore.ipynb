{
 "cells": [
  {
   "cell_type": "markdown",
   "metadata": {},
   "source": [
    "# Q1. Why are functions advantageous to have in your programs ?\n",
    "\n",
    "## Solution: \n",
    "Because functions provides the concept of code resuability. Due to this, code duplicacy exhaust and code becomes\n",
    "easier for understand and update, shorter for debugging and execute by calling in program as it has return statement\n",
    "in its defination. \n"
   ]
  },
  {
   "cell_type": "markdown",
   "metadata": {},
   "source": [
    "# Q2. When does the code in a function run: when it's specified or when it's called ?\n",
    "\n",
    "## Solution:\n",
    "The code in a function run's when it would called and not when its defined. For eg- we can understand this by the following\n",
    " code: "
   ]
  },
  {
   "cell_type": "code",
   "execution_count": 2,
   "metadata": {},
   "outputs": [],
   "source": [
    "def my_function(course, language, database):\n",
    "  print(\"My database choice is \" + database)\n",
    "\n"
   ]
  },
  {
   "cell_type": "code",
   "execution_count": 3,
   "metadata": {},
   "outputs": [
    {
     "name": "stdout",
     "output_type": "stream",
     "text": [
      "My database choice is Cassandra\n"
     ]
    }
   ],
   "source": [
    "my_function(course = \"Data Science\", language = \"Python\", database = \"Cassandra\")\n"
   ]
  },
  {
   "cell_type": "markdown",
   "metadata": {},
   "source": [
    "# Q3. What statement creates a function ?\n",
    "\n",
    "## Solution: \n",
    "The def statement is generaly used to creates a function.\n"
   ]
  },
  {
   "cell_type": "markdown",
   "metadata": {},
   "source": [
    "# Q4. What is the difference between a function and a function call ?\n",
    "\n",
    "## Solution: \n",
    "A function is a defination of the specific purpose code, its genrally contains in the def statement block in python language.\n",
    "\n",
    "Whereas, a function call is a statment which is used for calling a specific funtion among all others by its specific name for program execution and its generally evaluates function's return value.   \n"
   ]
  },
  {
   "cell_type": "markdown",
   "metadata": {},
   "source": [
    "# Q5. How many global scopes are there in a Python program? How many local scopes ?\n",
    "\n",
    "## Solution:\n",
    "In python, there is only one global scope for an entire program. Whereas, there are many local scopes exist in a program which genarally depends on number of functions created in that program."
   ]
  },
  {
   "cell_type": "markdown",
   "metadata": {},
   "source": [
    "# Q6. What happens to variables in a local scope when the function call returns ?\n",
    "\n",
    "## Solution:\n",
    "The variable exists just for the duration of the function's execution, which we refer to as its lifetime. The local variables are removed after the function's execution ends (returns). After the function returns, the local variables are destroyed.\n"
   ]
  },
  {
   "cell_type": "markdown",
   "metadata": {},
   "source": [
    "# Q7. What is the concept of a return value? Is it possible to have a return value in an expression ?\n",
    "\n",
    "## Solution:\n",
    "A function, in general, accepts parameters (if any), conducts actions, and returns a value (or object). The value that a function returns to the caller is known as the return value of the function. All functions in Python have a return value, which might be explicit or implicit.\n",
    "\n",
    "Likewise other values, return value can aslo be used as a part of an expression. \n"
   ]
  },
  {
   "cell_type": "markdown",
   "metadata": {},
   "source": [
    "# Q8.  If a function does not have a return statement, what is the return value of a call to that function ?\n",
    "\n",
    "## Solution:\n",
    "If a function definition lacks a return statement, control is passed back to the calling function after the called function's last statement is executed. The called function's return value is either none or undefined in this scenario.    \n",
    "    "
   ]
  },
  {
   "cell_type": "markdown",
   "metadata": {},
   "source": [
    "# Q9. How do you make a function variable refer to the global variable ?\n",
    "\n",
    "## Solution:\n",
    "When you create a variable inside a function, it is usually local, meaning it may only be utilised within that function.\n",
    "\n",
    "For create a global variable inside a function, you can use the global keyword. We can understand this by below code example:"
   ]
  },
  {
   "cell_type": "code",
   "execution_count": 1,
   "metadata": {},
   "outputs": [
    {
     "name": "stdout",
     "output_type": "stream",
     "text": [
      "Python is simple and fast\n"
     ]
    }
   ],
   "source": [
    "def myfunc():\n",
    "  global x\n",
    "  x = \"simple and fast\"\n",
    "\n",
    "myfunc()\n",
    "\n",
    "print(\"Python is \" + x)"
   ]
  },
  {
   "cell_type": "markdown",
   "metadata": {},
   "source": [
    "# Q10. What is the data type of None ?\n",
    "\n",
    "## Solution:\n",
    "The None keyword is used to specify a null value, or one that has no value at all.\n",
    "\n",
    "None isn't the same as 0 or False, nor is it the same as an empty string. None is its own data type (NoneType), and it can only be None.\n",
    "\n",
    "We can understand it through below code:\n",
    "\n",
    "\n",
    "\n"
   ]
  },
  {
   "cell_type": "code",
   "execution_count": 5,
   "metadata": {},
   "outputs": [
    {
     "name": "stdout",
     "output_type": "stream",
     "text": [
      "None is not True, or False, None is only of none type\n"
     ]
    }
   ],
   "source": [
    "y = None\n",
    "\n",
    "if y is True:\n",
    "  print(\"Do you think None is True?\")\n",
    "elif y is False:\n",
    "  print (\"Do you think None is False?\")\n",
    "else:\n",
    "  print(\"None is not True, or False, None is only of none type\")\n"
   ]
  },
  {
   "cell_type": "markdown",
   "metadata": {},
   "source": [
    "# Q11. What does the sentence import areallyourpetsnamederic do ?\n",
    "\n",
    "## Solution:\n",
    "The sentence import areallyourpetsnamederic would import this specific name module but in real envorinment of python this module does not exist.\n"
   ]
  },
  {
   "cell_type": "markdown",
   "metadata": {},
   "source": [
    "# Q12. If you had a bacon() feature in a spam module, what would you call it after importing spam ?\n",
    "\n",
    "## Solution:\n",
    "As a bacon() function is resides within the scope of spam module, which means whenever we need to use or call bacon() function. We must need to access its spam module first. So for this senario, we used spam.bacon() statement to access the recources of spam module.\n"
   ]
  },
  {
   "cell_type": "markdown",
   "metadata": {},
   "source": [
    "# Q13. What can you do to save a programme from crashing if it encounters an error ?\n",
    "\n",
    "## Solution: \n",
    "We don't want an application to crash on the user as a result of a mistake. Exception handling, on the other hand, can be used to inform the user of the reason for the error and gracefully exit the process that generated it.\n",
    "\n",
    "we can understand this by below code:\n"
   ]
  },
  {
   "cell_type": "code",
   "execution_count": 37,
   "metadata": {},
   "outputs": [
    {
     "name": "stdout",
     "output_type": "stream",
     "text": [
      "Handling run-time error: division by zero\n"
     ]
    }
   ],
   "source": [
    "def myfunc():\n",
    "    x = 1/0\n",
    "\n",
    "try:\n",
    "    myfunc()\n",
    "    print(x)\n",
    "except Exception as e:\n",
    "    print('Handling run-time error:', e)\n"
   ]
  },
  {
   "cell_type": "markdown",
   "metadata": {},
   "source": [
    "# Q14. What is the purpose of the try clause? What is the purpose of the except clause ?\n",
    "\n",
    "## Solution:\n",
    "\n",
    "In exception handling, we generally used try and except clause to handle all runtime exceptions and saves the program from crashing.\n",
    "\n",
    "Purpose of try clause:\n",
    "try cluase is used to execute all statement until an exception encountered. If an exception occured it sent it to except clause to handle it. \n",
    "\n",
    "Purpose of except clause:\n",
    "except clause is used to handle the exception which is thrown by try clause to identifying and classifying the class of exception.\n",
    "\n",
    "Note:\n",
    "- In program try block can be run without except block but except block cannot be run by try block.\n",
    "- In program try block always comes before execpt block.\n",
    "- In program there is only one try block but can be many except blocks are used.\n",
    "\n",
    "we can understand through below example:\n",
    "\n"
   ]
  },
  {
   "cell_type": "code",
   "execution_count": 42,
   "metadata": {},
   "outputs": [
    {
     "name": "stdout",
     "output_type": "stream",
     "text": [
      "None\n"
     ]
    }
   ],
   "source": [
    "try:\n",
    "  print(x)\n",
    "except NameError:\n",
    "  print(\"Variable x is not defined\")\n",
    "except:\n",
    "  print(\"Something else went wrong\")\n"
   ]
  },
  {
   "cell_type": "code",
   "execution_count": null,
   "metadata": {},
   "outputs": [],
   "source": []
  },
  {
   "cell_type": "markdown",
   "metadata": {},
   "source": [
    "# Assignment Completed!!"
   ]
  }
 ],
 "metadata": {
  "kernelspec": {
   "display_name": "Python 3",
   "language": "python",
   "name": "python3"
  },
  "language_info": {
   "codemirror_mode": {
    "name": "ipython",
    "version": 3
   },
   "file_extension": ".py",
   "mimetype": "text/x-python",
   "name": "python",
   "nbconvert_exporter": "python",
   "pygments_lexer": "ipython3",
   "version": "3.7.4"
  }
 },
 "nbformat": 4,
 "nbformat_minor": 2
}
