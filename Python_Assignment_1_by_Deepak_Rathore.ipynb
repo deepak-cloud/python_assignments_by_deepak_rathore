{
 "cells": [
  {
   "cell_type": "markdown",
   "metadata": {},
   "source": [
    "# Q1 In the below elements which of them are values or an expression? eg:- values can be integer or string and expressions will be mathematical operators ?\n",
    "\n",
    "- *\n",
    "- 'hello'\n",
    "- '- 87.8'\n",
    "- '-' \n",
    "- / \n",
    "- '+'\t\n",
    "- 6 \n",
    "\n",
    "## Solution"
   ]
  },
  {
   "cell_type": "code",
   "execution_count": 10,
   "metadata": {},
   "outputs": [
    {
     "name": "stdout",
     "output_type": "stream",
     "text": [
      "Please Enter input in among of them:\n",
      " *\n",
      " 'hello'\n",
      " -87.8\n",
      " -\n",
      " /\n",
      " +\n",
      " 6\n",
      " \n",
      "Enter input-> /\n",
      "Entered input is Expression\n"
     ]
    }
   ],
   "source": [
    "print(\"Please Enter input in among of them:\\n *\\n 'hello'\\n -87.8\\n -\\n /\\n +\\n 6\\n \")\n",
    "\n",
    "a = input(\"Enter input-> \")\n",
    "if a=='hello' or a=='-87.8' or a=='6':\n",
    "    print(\"Entered input is Value\")\n",
    "elif a=='*' or a=='-' or a=='/' or a=='+':\n",
    "    print(\"Entered input is Expression\")\n",
    "else:\n",
    "    print(\"Input is invalid!!\")"
   ]
  },
  {
   "cell_type": "markdown",
   "metadata": {},
   "source": [
    "# Q2. What is the difference between string and variable?\n",
    "\n",
    "## Solution:\n",
    "\n",
    "String : It is value itself and in the the nature of alphabets, characters, words, sentence.This type of generally enclosed by double quotes \" \" or single quotes ' '. For eg: 'a','abc',\"this is a string\".\n",
    "\n",
    "Variable : It is a value-holder which holdes the value on temporary basis and in nature its hold all types of values such as- string, integer, float, date, complex number, boolean etc. for eg: a=20, b=\"hello\", c=2.5, d=True, e=3+6j.\n"
   ]
  },
  {
   "cell_type": "markdown",
   "metadata": {},
   "source": [
    "# Q3. Describe three diffrent data types ?\n",
    "\n",
    "## Solution:\n",
    "\n",
    "The classification or specialisation of data elements is referred to as data types. It represents the kind of value that specifies the operations that can be performed on a given set of data. The following are some types of data types are:\n",
    "\n",
    "\n",
    "1) Numeric Datatype: \n",
    "The data with a numeric value is represented by the numeric data type. Integers, floating numbers, and even complex numbers can be used as numerical values. In Python, these values are represented by the int, float, and complex classes respectively.\n",
    "\n",
    "\n",
    "Integers - The int class represents this value. It contains whole numbers that are either positive or negative (without fraction or decimal). There is no limit on how lengthy an integer value can be in Python.For eg: a=10, b=int(30).\n",
    "\n",
    "\n",
    "Float - The float class represents this value. It's a floating-point representation of a real number. A decimal point is used to specify it. To designate scientific notation, the characters e or E, followed by a positive or negative number, might be inserted.For eg: a=30.4, b=float(3.54).\n",
    "\n",
    "\n",
    "Complex Numbers - The complex class represents a complex number. (actual part) + (imaginary portion)j is the formula. For eg. 2+3j.\n",
    "\n",
    "\n",
    "2) Sequence Datatype:\n",
    "The ordered collection of similar or dissimilar data kinds is known as a sequence. Multiple values can be stored in an ordered and efficient manner using sequences. Python has a variety of sequence types —\n",
    "\n",
    "String - Unicode characters are represented as strings, which are arrays of bytes. A string is made up of one or more characters enclosed in a single, double, or triple quotation. There is no character data type in Python; a character is a one-length string. The str class is used to represent it. For eg: a='hello', b=python code\".\n",
    "\n",
    "\n",
    "List - In Python, lists are ordered and have a count. A list's elements are indexed in a specific order, with 0 serving as the first index. Each element in the list has its own separate spot in the list, allowing duplication of elements in the list while maintaining the credibility of each member.For eg: [[a],[b],'cde', ['f','g']].\n",
    "\n",
    "\n",
    "Tuple - Tuple is a list-like collection of Python objects. A tuple is a collection of values that can be of any type and are indexed by integers.\n",
    "Commas are used to separate the values of a tuple. It is more customary to define a tuple by terminating the series of values in parentheses, even if it is not required. For eg: (2,3,4,5,'hello','python')\n",
    "\n",
    "\n",
    "3) Dictionary:\n",
    "In Python, a dictionary is an unordered collection of data values, similar to a map, used to store data values. Unlike other Data Types, which only contain a single value as an element, Dictionary holds a key:value pair. The dictionary has a key value to make it more optimal. For eg: {Name: 'Deepak Rathore', Address: 'Delhi'}.\n",
    "\n",
    "\n",
    "\n"
   ]
  },
  {
   "cell_type": "markdown",
   "metadata": {},
   "source": [
    "# Q4. What is an expression made up of? What do all expressions do?\n",
    "\n",
    "\n",
    "## Solution:\n",
    "A combination made up of values, variables, and operators is called an expression. A value by itself, as well as a variable, is regarded an expression, hence the following are all lawful expressions (assuming that the variable x has been assigned a value).\n",
    "\n",
    "- 20\n",
    "- x\n",
    "- x + 20\n",
    "\n",
    "Expressions can appear on the right hand side of assignment statements since they produce a value when evaluated. A variable, like a value, is a simple expression in and of itself. Evaluating an expression is not the same as outputting a value, which can be confusing. When the Python shell displays the result of an expression, it follows the same format as when you type a value. In the case of strings, this means that the quotation marks are included. The print statement, on the other hand, publishes the value of the expression, which in this example is the string's contents. All expressions by itself is a legal statement in a script, but it does nothing."
   ]
  },
  {
   "cell_type": "markdown",
   "metadata": {},
   "source": [
    "# Q5. This assignment statements, like spam = 10. What is the difference between an expression and a statement?\n",
    "\n",
    "## Solution:\n",
    "This assignment statement, like spam = 10 is denotes that \"spam = 10\" is an expression evaluates to a single value but not a statement. A combination of values, variables, and operators is called an expression.\n",
    "A value by itself, as well as a variable, is regarded an expression, hence the following are all lawful expressions:\n",
    "- spam = 10\n",
    "- spam + 15\n",
    "- 25\n",
    "\n",
    "When you type an expression into the prompt, the interpreter evaluates it, which means it determines its value.\n",
    "In this example, spam has the value 10 and\n",
    "spam + 15 has the value 25.\n",
    "\n",
    "A statement is a piece of code that performs a specific task, such as defining a variable or displaying a value.\n",
    "spam = 10\n",
    "print(spam)\n",
    "\n",
    "The first line is an assignment statement in which spam is given a value. The value of spam is displayed on the second line, which is a print statement.\n",
    "The interpreter executes a statement when you type it, which means it does what the statement says. Statements, in general, do not have values.\n",
    "\n",
    "\n",
    "\n"
   ]
  },
  {
   "cell_type": "markdown",
   "metadata": {},
   "source": [
    "# Q6. After running the following code, what does the variable bacon contain?\n",
    "- bacon = 22\n",
    "- bacon + 1\n",
    "\n",
    "## Solution:\n",
    "\n"
   ]
  },
  {
   "cell_type": "code",
   "execution_count": 9,
   "metadata": {},
   "outputs": [
    {
     "name": "stdout",
     "output_type": "stream",
     "text": [
      "22\n"
     ]
    }
   ],
   "source": [
    "bacon = 22\n",
    "print(bacon)"
   ]
  },
  {
   "cell_type": "code",
   "execution_count": 10,
   "metadata": {},
   "outputs": [
    {
     "name": "stdout",
     "output_type": "stream",
     "text": [
      "22\n"
     ]
    }
   ],
   "source": [
    "bacon + 1\n",
    "print(bacon)"
   ]
  },
  {
   "cell_type": "markdown",
   "metadata": {},
   "source": [
    "After running the code, the variable bacon still holds the value of 22. Because, even operation of\n",
    "addition is performed with the variable bacon as 'bacon + 1' but did not store anywhere. That's why while\n",
    "printing the variable after addition it holds the previous value and shows only that as 22. It requires assignment statetments such as bacon=bacon+1. \n"
   ]
  },
  {
   "cell_type": "markdown",
   "metadata": {},
   "source": [
    "# Q7. 7. What should the values of the following two terms be?\n",
    "- 'spam' + 'spamspam'\n",
    "- 'spam' * 3\n",
    "\n",
    "## Solution:"
   ]
  },
  {
   "cell_type": "code",
   "execution_count": 11,
   "metadata": {},
   "outputs": [
    {
     "name": "stdout",
     "output_type": "stream",
     "text": [
      "spamspamspam\n"
     ]
    }
   ],
   "source": [
    "print('spam' + 'spamspam')"
   ]
  },
  {
   "cell_type": "code",
   "execution_count": 12,
   "metadata": {},
   "outputs": [
    {
     "name": "stdout",
     "output_type": "stream",
     "text": [
      "spamspamspam\n"
     ]
    }
   ],
   "source": [
    "print('spam' * 3)"
   ]
  },
  {
   "cell_type": "markdown",
   "metadata": {},
   "source": [
    "As in both term of above code shows same output, here both operations performed on string.\n",
    "As in first case where addition of two strings occured, in which concatenation function performed and gives\n",
    "the output as spamspamspam.\n",
    "\n",
    "similarly, in second case where multiplication operation perfromed with string into(*) 3, in which\n",
    "string replicates themselves three times and gives the output as spamspamspam.  "
   ]
  },
  {
   "cell_type": "markdown",
   "metadata": {},
   "source": [
    "# Q8. Why is eggs a valid variable name while 100 is invalid ?\n",
    "\n",
    "## Solution:\n",
    "\n",
    "Because, as per variable intialisation rules in python variable never start with a number or digit. Whereas a variable can be start with any albhabets.\n"
   ]
  },
  {
   "cell_type": "markdown",
   "metadata": {},
   "source": [
    "# Q9.  What three functions can be used to get the integer, floating-point number, or string version of a value?\n",
    "\n",
    "## Solution:\n",
    "For integer values we used int() function, for floating-point values we used float() function and for string values\n",
    "we used str() respectively. \n"
   ]
  },
  {
   "cell_type": "markdown",
   "metadata": {},
   "source": [
    "# Q10. Why does this expression cause an error? How can you fix it?\n",
    "'I have eaten ' + 99 + ' burritos.'\n",
    "\n",
    "## Solution: "
   ]
  },
  {
   "cell_type": "code",
   "execution_count": 14,
   "metadata": {},
   "outputs": [
    {
     "ename": "TypeError",
     "evalue": "can only concatenate str (not \"int\") to str",
     "output_type": "error",
     "traceback": [
      "\u001b[1;31m---------------------------------------------------------------------------\u001b[0m",
      "\u001b[1;31mTypeError\u001b[0m                                 Traceback (most recent call last)",
      "\u001b[1;32m<ipython-input-14-d24137131a5c>\u001b[0m in \u001b[0;36m<module>\u001b[1;34m\u001b[0m\n\u001b[1;32m----> 1\u001b[1;33m \u001b[1;34m'I have eaten '\u001b[0m \u001b[1;33m+\u001b[0m \u001b[1;36m99\u001b[0m \u001b[1;33m+\u001b[0m \u001b[1;34m' burritos.'\u001b[0m\u001b[1;33m\u001b[0m\u001b[1;33m\u001b[0m\u001b[0m\n\u001b[0m",
      "\u001b[1;31mTypeError\u001b[0m: can only concatenate str (not \"int\") to str"
     ]
    }
   ],
   "source": [
    "'I have eaten ' + 99 + ' burritos.'"
   ]
  },
  {
   "cell_type": "markdown",
   "metadata": {},
   "source": [
    "In the above case, an expression try to concatenate integer value with string , which is not possible at all,\n",
    "as string can be concatenate by string itself. So, to rectify the bug and excecute that full  statement,\n",
    "we need to convert the integer value by string through type casting. It is as follows: "
   ]
  },
  {
   "cell_type": "code",
   "execution_count": 16,
   "metadata": {},
   "outputs": [
    {
     "data": {
      "text/plain": [
       "'I have eaten 99 burritos.'"
      ]
     },
     "execution_count": 16,
     "metadata": {},
     "output_type": "execute_result"
    }
   ],
   "source": [
    "'I have eaten ' + str(99) + ' burritos.'"
   ]
  },
  {
   "cell_type": "code",
   "execution_count": null,
   "metadata": {},
   "outputs": [],
   "source": []
  },
  {
   "cell_type": "markdown",
   "metadata": {},
   "source": [
    "# !!Assignment Completed!!"
   ]
  }
 ],
 "metadata": {
  "kernelspec": {
   "display_name": "Python 3",
   "language": "python",
   "name": "python3"
  },
  "language_info": {
   "codemirror_mode": {
    "name": "ipython",
    "version": 3
   },
   "file_extension": ".py",
   "mimetype": "text/x-python",
   "name": "python",
   "nbconvert_exporter": "python",
   "pygments_lexer": "ipython3",
   "version": "3.7.4"
  }
 },
 "nbformat": 4,
 "nbformat_minor": 2
}
